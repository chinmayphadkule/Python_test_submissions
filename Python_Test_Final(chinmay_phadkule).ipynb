{
  "nbformat": 4,
  "nbformat_minor": 0,
  "metadata": {
    "colab": {
      "provenance": []
    },
    "kernelspec": {
      "name": "python3",
      "display_name": "Python 3",
      "language": "python"
    },
    "language_info": {
      "name": "python",
      "version": "3.7.10-final"
    }
  },
  "cells": [
    {
      "cell_type": "markdown",
      "source": [
        "## Python Test\n",
        "\n",
        "### Instructions:\n",
        "\n",
        "You are given with Python coding problems. These problems will give you the chance to test your implementations of the questions. Each code runs your implementations for a number of testcases. You use the test codes to make sure that:\n",
        "\n",
        "    • Your function does not crash, that is, there is no Python errors when trying to run the\n",
        "    function.\n",
        "\n",
        "    • Compare the results of the testcases to your results. Expected results are given at the\n",
        "    end of each code.\n",
        "\n",
        "\n",
        "In each problem, replace pass command with your implementation of each required function."
      ],
      "metadata": {
        "id": "AoBhB2LUBoyf"
      }
    },
    {
      "cell_type": "markdown",
      "source": [
        "### Question 1 - Arithmetic\n",
        "\n",
        "In this question, your task is to implement a function `do_arithmetic(x,y,op)` which takes three input arguments: a number x,\n",
        "a number y, and a string op representing an operation. The function has to perform the\n",
        "operation on the two numbers and return the result.\n",
        "\n",
        "- Example 1: if you call the function with the parameter `do_arithmetic(10,4,’add’)` the function should return the value 14.0.\n",
        "\n",
        "- Example 2: `do_arithmetic(2,3,’*’)` should return 6.0.\n",
        "\n",
        "**Detailed instructions:**\n",
        "-  You can assume that x and y are always provided and always valid numbers (e.g. integers or floats).\n",
        "\n",
        "- `op` is a string representing the operation to perform. You have to implement four operations with ’add’, ’+’, ’subtract’, ’-’, ’multiply’, ’*’, and ’divide’, ’/’.\n",
        "\n",
        "- If `op` is not specified by the user it should default to ’add’.\n",
        "\n",
        "- If `op` is specified by the user but it is not one of the four operations (with eight keywords), print ’Unknown operation’ and return None.\n",
        "\n",
        "- Division by zero should be avoided. To this end, return None whenever division by zero would occur, and print ’Division by 0!’\n",
        "\n",
        "- The returned result should always be of type float.\n",
        "\n",
        "Test code: The following test cases will be tested:\n",
        "\n",
        "`do_arithmetic(24, -7, 'add')`\n",
        "- Expected result:- 17.0\n",
        "\n",
        "`do_arithmetic(6, 6, 'multiply')`\n",
        "- Expected result:- 36.0\n",
        "\n",
        "`do_arithmetic(4, 0, '/')`\n",
        "- Expected result: \"Division by Zero!\"\n",
        "\n",
        "`do_arithmetic(3, 9, '-')`\n",
        "- Expected result: -6.0\n",
        "\n",
        "`do_arithmetic(10, -43, 'subtract')`\n",
        "- Expected result: 53.0\n",
        "\n",
        "`do_arithmetic(3, 9)`\n",
        "- Expected result: 12.0"
      ],
      "metadata": {
        "id": "a9aj25yKCjXR"
      }
    },
    {
      "cell_type": "code",
      "source": [
        "def do_arithmetic(x,y,op='+'):\n",
        "\n",
        "  if op == 'add' or op == '+':\n",
        "    return float(x+y)\n",
        "\n",
        "  elif op == 'subtract' or op == '-':\n",
        "    return float(x-y)\n",
        "\n",
        "  elif op == 'multiply' or op == '*':\n",
        "    return float(x*y)\n",
        "\n",
        "  elif op == '/':\n",
        "    try:\n",
        "      a =float(x/y)\n",
        "\n",
        "    except:\n",
        "      print(\"Division by Zero!\")\n",
        "\n"
      ],
      "metadata": {
        "id": "6qw-Ev62CZ55"
      },
      "execution_count": null,
      "outputs": []
    },
    {
      "cell_type": "code",
      "source": [
        "do_arithmetic(24, -7, 'add')"
      ],
      "metadata": {
        "colab": {
          "base_uri": "https://localhost:8080/"
        },
        "id": "BPjP0_HLWBF6",
        "outputId": "3899757a-9f15-4c0e-f037-042d3831bd69"
      },
      "execution_count": null,
      "outputs": [
        {
          "output_type": "execute_result",
          "data": {
            "text/plain": [
              "17.0"
            ]
          },
          "metadata": {},
          "execution_count": 11
        }
      ]
    },
    {
      "cell_type": "code",
      "source": [
        "do_arithmetic(6, 6, 'multiply')"
      ],
      "metadata": {
        "colab": {
          "base_uri": "https://localhost:8080/"
        },
        "id": "q4JCKiq6WBCb",
        "outputId": "58316028-b185-4960-d7f3-0d44cfe400be"
      },
      "execution_count": null,
      "outputs": [
        {
          "output_type": "execute_result",
          "data": {
            "text/plain": [
              "36.0"
            ]
          },
          "metadata": {},
          "execution_count": 12
        }
      ]
    },
    {
      "cell_type": "code",
      "source": [
        "do_arithmetic(4, 0, '/')"
      ],
      "metadata": {
        "colab": {
          "base_uri": "https://localhost:8080/"
        },
        "id": "6Rz3z6hhWA-f",
        "outputId": "ff20e9d9-a4c7-4a16-af02-60ab3d434e15"
      },
      "execution_count": null,
      "outputs": [
        {
          "output_type": "stream",
          "name": "stdout",
          "text": [
            "Division by Zero!\n"
          ]
        }
      ]
    },
    {
      "cell_type": "code",
      "source": [
        "do_arithmetic(3, 9, '-')"
      ],
      "metadata": {
        "colab": {
          "base_uri": "https://localhost:8080/"
        },
        "id": "dNygTRppWA4x",
        "outputId": "bbf34687-8eee-41f8-99b0-8d408cc84f1f"
      },
      "execution_count": null,
      "outputs": [
        {
          "output_type": "execute_result",
          "data": {
            "text/plain": [
              "-6.0"
            ]
          },
          "metadata": {},
          "execution_count": 14
        }
      ]
    },
    {
      "cell_type": "code",
      "source": [
        "do_arithmetic(10, -43, 'subtract')"
      ],
      "metadata": {
        "colab": {
          "base_uri": "https://localhost:8080/"
        },
        "id": "4AnKs91iWAxp",
        "outputId": "c7abfd99-4bc1-48cd-8ad4-ed2de3661590"
      },
      "execution_count": null,
      "outputs": [
        {
          "output_type": "execute_result",
          "data": {
            "text/plain": [
              "53.0"
            ]
          },
          "metadata": {},
          "execution_count": 15
        }
      ]
    },
    {
      "cell_type": "code",
      "source": [
        "do_arithmetic(3, 9)"
      ],
      "metadata": {
        "colab": {
          "base_uri": "https://localhost:8080/"
        },
        "id": "zTblJW8lWAmR",
        "outputId": "1d46a6b0-779a-492b-ecd5-0a535a413e23"
      },
      "execution_count": null,
      "outputs": [
        {
          "output_type": "execute_result",
          "data": {
            "text/plain": [
              "12.0"
            ]
          },
          "metadata": {},
          "execution_count": 16
        }
      ]
    },
    {
      "cell_type": "code",
      "source": [],
      "metadata": {
        "id": "_it8csJKV_83"
      },
      "execution_count": null,
      "outputs": []
    },
    {
      "cell_type": "markdown",
      "source": [
        "### Question 2 - Sum of digits\n",
        "\n",
        "Write a function `sum_of_digits(s)` that takes as input a string s that contains some numbers. The function calculates the sum of all the digits in the string, ignoring any symbols that\n",
        "are not digits.\n",
        "\n",
        "• Example: `sum_of_digits(\"123\")` should return 6 since 1+2+3 = 6\n",
        "\n",
        "• Example 2: `sum_of_digits(\"10a20\")` should return 3 because 1+0+2+0 = 3.\n",
        "Detailed instructions:\n",
        "\n",
        "- if s includes both digits and nondigits\n",
        "\n",
        "  – Calculate the sum of digits and return the result whilst ignoring any\n",
        "  \n",
        "  non-digit symbols in the string.\n",
        "  \n",
        "  – print e.g. for `sum_of_digits(\"10a20\")`\n",
        "  \n",
        "  ’The sum of digits operation performs 1+0+2+0’\n",
        "\n",
        "  – Save the extracted non-digits in a variable of interest as a list and print \"The extracted non-digits are: [’a’]\"\n",
        "\n",
        "- If s is not provided or an empty string return 0 and print\n",
        "  \n",
        "  ’Empty string entered!’.\n",
        "\n",
        "- If s is provided, but it contains no digits return 0 and print\n",
        "  \n",
        "  ’The sum of digits operation could not detect a digit!’\n",
        "  \n",
        "  ’The returned input letters are: [ALL NONDIGITS HERE]’\n",
        "\n",
        "- The returned number should be an integer.\n",
        "\n",
        "  - Example 1: When you run `sum_of_digits(\"a1w3\")` , the function should print\n",
        "    \n",
        "    The sum of digits operation performs 1+3\n",
        "    \n",
        "    The extracted non-digits are: [’a’, ’w’]\n",
        "    \n",
        "    4\n",
        "\n",
        "  - Example 2: When you run `sum_of_digits(\"united\")`, the function should print\n",
        "    \n",
        "    The sum of digits operation could not detect a digit!\n",
        "\n",
        "    The returned input letters are: [’u’, ’n’, ’i’, ’t’, ’e’, ’d’]\n",
        "    \n",
        "    0\n",
        "\n",
        "Test code: The following test cases will be tested:\n",
        "\n",
        "`sum_of_digits(\"123\")`\n",
        "\n",
        "- Expected result:\n",
        "  \n",
        "  The sum of digit operation performs 1 + 2 + 3\n",
        "  \n",
        "  The extracted non-digits are []\n",
        "  \n",
        "  6\n",
        "\n",
        "`sum_of_digits(\"we10a20b\")`\n",
        "\n",
        "- Expected result:\n",
        "\n",
        "  The sum of digit operation performs 1 + 0 + 2 + 0\n",
        "\n",
        "  The extracted non-digits are ['w', 'e', 'a', 'b']\n",
        "\n",
        "  3\n",
        "\n",
        "`sum_of_digits(\"united\")`\n",
        "- Expected result:\n",
        "\n",
        "  The sum of digits operation could not detect a digit!\n",
        "  \n",
        "  The extracted non-digits are ['u', 'n', 'i', 't', 'e', 'd']\n",
        "  \n",
        "  0\n",
        "\n",
        "`sum_of_digits(\"\")`\n",
        "\n",
        "- Expected result:\n",
        "\n",
        "  The sum of digits operation could not detect a digit!\n",
        "  \n",
        "  The extracted non-digits are []\n",
        "  \n",
        "  0"
      ],
      "metadata": {
        "id": "oiXY9pAQD5bE"
      }
    },
    {
      "cell_type": "code",
      "source": [
        "def sum_of_digits(s):\n",
        "  sum = 0\n",
        "  a = []\n",
        "  digits = []\n",
        "  b=0\n",
        "\n",
        "  for i in s:\n",
        "    if i.isdigit():\n",
        "      # print(f\"The sum of digit operation performs + {i}\")\n",
        "      sum += int(i)\n",
        "      digits.append(i)\n",
        "\n",
        "    # else:\n",
        "    #   print(\"The sum of digits operation could not detect a digit!\")\n",
        "\n",
        "\n",
        "    elif i.isalpha():\n",
        "      a +=i\n",
        "      b+=1\n",
        "\n",
        "  if  b == len(s):\n",
        "    print(\"The sum of digits operation could not detect a digit!\")\n",
        "\n",
        "  else:\n",
        "    print(f\"The sum of digit operation performs {'+'.join(digits)}\")\n",
        "\n",
        "  print(\"The extracted non-digits are \", a)\n",
        "  print(sum)\n",
        "  # print(digits)\n",
        "  # print(s)"
      ],
      "metadata": {
        "id": "quwAzI41D44Y"
      },
      "execution_count": null,
      "outputs": []
    },
    {
      "cell_type": "code",
      "source": [
        "sum_of_digits(\"123\")"
      ],
      "metadata": {
        "colab": {
          "base_uri": "https://localhost:8080/"
        },
        "id": "RzarE63HZGwZ",
        "outputId": "313fc033-d100-482c-8821-2c830e06cbee"
      },
      "execution_count": null,
      "outputs": [
        {
          "output_type": "stream",
          "name": "stdout",
          "text": [
            "The sum of digit operation performs 1+2+3\n",
            "The extracted non-digits are  []\n",
            "6\n"
          ]
        }
      ]
    },
    {
      "cell_type": "code",
      "source": [
        "sum_of_digits(\"we10a20b\")"
      ],
      "metadata": {
        "colab": {
          "base_uri": "https://localhost:8080/"
        },
        "id": "YphnW1LMZGtB",
        "outputId": "6e70f214-4b66-44bd-868f-751f9048b6c2"
      },
      "execution_count": null,
      "outputs": [
        {
          "output_type": "stream",
          "name": "stdout",
          "text": [
            "The sum of digit operation performs 1+0+2+0\n",
            "The extracted non-digits are  ['w', 'e', 'a', 'b']\n",
            "3\n"
          ]
        }
      ]
    },
    {
      "cell_type": "code",
      "source": [
        "sum_of_digits(\"united\")"
      ],
      "metadata": {
        "colab": {
          "base_uri": "https://localhost:8080/"
        },
        "id": "_a1hErUFZGpx",
        "outputId": "59348adf-7739-45c4-c183-e17c92ff7db3"
      },
      "execution_count": null,
      "outputs": [
        {
          "output_type": "stream",
          "name": "stdout",
          "text": [
            "The sum of digits operation could not detect a digit!\n",
            "The extracted non-digits are  ['u', 'n', 'i', 't', 'e', 'd']\n",
            "0\n"
          ]
        }
      ]
    },
    {
      "cell_type": "code",
      "source": [
        "sum_of_digits(\"\")"
      ],
      "metadata": {
        "colab": {
          "base_uri": "https://localhost:8080/"
        },
        "id": "cThi5TysZGmk",
        "outputId": "13f6946d-a2c6-40bc-c80c-0efab2883ff9"
      },
      "execution_count": null,
      "outputs": [
        {
          "output_type": "stream",
          "name": "stdout",
          "text": [
            "The sum of digits operation could not detect a digit!\n",
            "The extracted non-digits are  []\n",
            "0\n"
          ]
        }
      ]
    },
    {
      "cell_type": "code",
      "source": [],
      "metadata": {
        "id": "b1Di7WWHZGjB"
      },
      "execution_count": null,
      "outputs": []
    },
    {
      "cell_type": "code",
      "source": [],
      "metadata": {
        "id": "RxvrCeVoZGds"
      },
      "execution_count": null,
      "outputs": []
    },
    {
      "cell_type": "markdown",
      "source": [
        "### Question 3 - Pluralize\n",
        "\n",
        "Please download following file named `pronoun.txt` before you solve this questions the link is given below:\n",
        "\n",
        "[Required file link](https://cdn.discordapp.com/attachments/953213295710584862/974555326865100830/pronoun.txt)\n",
        "\n",
        "Write a function `pluralize(word)` that determines the plural of an English word.\n",
        "Input: Your function takes one argument as input, word, a string representing the word to be\n",
        "pluralised. We assume this word will only be one single token, i.e., no spaces. Your function will also have to load the text file `proper nouns.txt`.\n",
        "\n",
        "Output: The function should return a dictionary of the form:\n",
        "  - {’plural’: word_in_plural, ’status’: x}\n",
        "\n",
        "\n",
        "where word_in_plural is the pluralized version of the input argument word and x is a\n",
        "string which can have one of the following values: ’empty_string’, ’proper_noun’, ’\n",
        "already_in_plural’, ’success’.\n",
        "\n",
        "\n",
        "Below is the logic (in order) that the function should execute.\n",
        "\n",
        "1) Determine if the word is an empty string, already in plural, or a proper noun.\n",
        "\n",
        "    • If the word is an empty string, then your function returns a dictionary with the following values:\n",
        "    \n",
        "      – word_in_plural = ’’ and x = ’empty_string’\n",
        "    \n",
        "      – Explanation: The input word is an empty string and it cannot be pluralized.\n",
        "    \n",
        "    • If the word is already in plural, then your function returns a dictionary with the following values:\n",
        "    \n",
        "      – word_in_plural = word and x = ’already_in_plural’.\n",
        "    \n",
        "      – Explanation: The input word remains untouched (e.g., input: houses, output: houses).\n",
        "    \n",
        "    • If the word is a proper noun, then your function returns a dictionary with the following values:\n",
        "    \n",
        "      – word_in_plural = word and x = ’proper_noun’.\n",
        "    \n",
        "      – Explanation: The input word is a proper noun, and therefore cannot be pluralized (e.g., input: Adam, output: Adam).\n",
        "\n",
        "    • How to determine plural form: We will assume a word is in plural if it ends with ’s’.\n",
        "\n",
        "    • How to determine if a word is a proper noun: We will assume a word is a proper noun if it exists in the file proper nouns.txt. Note that your function should convert any capitalised input to lower case first because the proper nouns in the list are all lower case. The values in your output dictionary, however, will retain the original capitalisation\n",
        "\n",
        "2) If the word is not plural and is not a proper noun, then:\n",
        "  Apply the following English plural rules.\n",
        "    \n",
        "    • If the word ends with a vowel:\n",
        "        – add -s.\n",
        "    \n",
        "    • Otherwise:\n",
        "        \n",
        "        – If it ends with ’y’ and is preceded by a consonant, erase the last letter and add\n",
        "        \n",
        "          -ies.\n",
        "        \n",
        "        – If it ends with ’f’, erase the last letter and add -ves.\n",
        "        \n",
        "        – If it ends with ’sh’/’ch’/’z’, add -es.\n",
        "        \n",
        "        – If none of the above applies, just add -s.\n",
        "\n",
        "    • After these rules are applied, your output dictionary should be:\n",
        "        – {’plural’: word_in_plural, ’status’: ’success’}\n",
        "\n",
        "\n",
        "Test code: The following test cases will be tested:\n",
        "\n",
        "`pluralize(\"failure\")`\n",
        "- Expected result: `{'plural':'failures', 'status':'success'}`\n",
        "\n",
        "`pluralize(\"food\")`\n",
        "- Expected result: `{'plural':'foods', 'status':'success'}`\n",
        "\n",
        "`pluralize(\"Zulma\")`\n",
        "- Expected result: `{'plural':'zulma', 'status':'proper_noun'}`\n",
        "\n",
        "`pluralize(\"injury\")`\n",
        "- Expected result: `{'plural':'injuries', 'status':'success'}`\n",
        "\n",
        "`pluralize(\"elf\")`\n",
        "- Expected result: `{'plural':'elves', 'status':'success'}`\n",
        "\n",
        "`pluralize(\"buzz\")`\n",
        "- Expected result: `{'plural':'buzzes', 'status':'success'}`\n",
        "\n",
        "`pluralize(\"computers\")`\n",
        "- Expected result: `{'plural':'computers', 'status':'already_in_plural'}`\n",
        "\n",
        "`pluralize(\"PCs\")`\n",
        "- Expected result: `{'plural':'PCs', 'status':'already_in_plural'}`\n",
        "\n",
        "`pluralize(\"\")`\n",
        "- Expected result: `{'plural':'', 'status':'empty_string'}`\n",
        "\n",
        "`pluralize(\"highway\")`\n",
        "- Expected result: `{'plural':'highways', 'status':'success'}`\n",
        "\n",
        "`pluralize(\"presentation\")`\n",
        "- Expected result: `{'plural':'presentations', 'status':'success'}`\n",
        "\n",
        "`pluralize(\"pouch\")`\n",
        "- Expected result: `{'plural':'pouches', 'status':'success'}`\n",
        "\n",
        "`pluralize(\"COVID-19\")`\n",
        "- Expected result: `{'plural':'COVID-19s', 'status':'success'}`\n",
        "\n",
        "`pluralize(\"adam\")`\n",
        "- Expected result: `{'plural':'adam', 'status':'proper_noun'}`\n"
      ],
      "metadata": {
        "id": "Ho-lFx1GFOvj"
      }
    },
    {
      "cell_type": "code",
      "source": [],
      "metadata": {
        "id": "CIYdrPcYSWnN"
      },
      "execution_count": null,
      "outputs": []
    },
    {
      "cell_type": "code",
      "source": [
        "def pluralize(word):\n",
        "  dict1={}\n",
        "  s=open(\"/content/pronoun.txt\",'r')\n",
        "  text = s.readlines()\n",
        "  s.close()\n",
        "  res = []\n",
        "  # for word in text:\n",
        "  if len(word) == 0:\n",
        "    dict1.update({'plural': ' ', 'status': 'empty_string'})\n",
        "    return dict1\n",
        "\n",
        "  elif word[-1] == 's':\n",
        "    dict1.update({'plural': word , 'status': 'empty'})\n",
        "    return dict1\n",
        "\n",
        "  elif word in text:\n",
        "    dict1.update({'plural': word , 'status': 'proper_noun'})\n",
        "    return dict1\n",
        "\n",
        "  elif word[-1] in 'aeiou':\n",
        "    dict1.update({'plural': word+'s' , 'status': 'success'})\n",
        "    return dict1\n",
        "\n",
        "  elif word[-1] == 'y':\n",
        "    dict1.update({'plural': word[:-1]+'ies' , 'status': 'success'})\n",
        "    return dict1\n",
        "\n",
        "  elif word[-1] == 'f':\n",
        "    dict1.update({'plural': word[:-1]+'ves' , 'status': 'success'})\n",
        "    return dict1\n",
        "\n",
        "  elif word[-1] == 'z' or word[-2] == 'sh' or word[-1] == 'ch':\n",
        "    dict1.update({'plural': word+'es' , 'status': 'success'})\n",
        "    return dict1\n",
        "\n",
        "\n",
        "  else:\n",
        "    dict1.update({'plural': word+'s' , 'status': 'success'})\n",
        "    return dict1\n",
        "\n",
        "\n",
        "\n"
      ],
      "metadata": {
        "id": "wiMuRDL0iM-d"
      },
      "execution_count": null,
      "outputs": []
    },
    {
      "cell_type": "code",
      "source": [
        "pluralize(\"failure\")"
      ],
      "metadata": {
        "colab": {
          "base_uri": "https://localhost:8080/"
        },
        "id": "VZIJxH9qtI9o",
        "outputId": "5326c4cc-ed35-4a80-cd29-230f3530519d"
      },
      "execution_count": null,
      "outputs": [
        {
          "output_type": "execute_result",
          "data": {
            "text/plain": [
              "{'plural': 'failures', 'status': 'success'}"
            ]
          },
          "metadata": {},
          "execution_count": 8
        }
      ]
    },
    {
      "cell_type": "code",
      "source": [
        "pluralize(\"food\")"
      ],
      "metadata": {
        "colab": {
          "base_uri": "https://localhost:8080/"
        },
        "id": "SYO8ABOVtI6O",
        "outputId": "004a9b43-ac8a-42a2-de6d-502a53363ea4"
      },
      "execution_count": null,
      "outputs": [
        {
          "output_type": "execute_result",
          "data": {
            "text/plain": [
              "{'plural': 'foods', 'status': 'success'}"
            ]
          },
          "metadata": {},
          "execution_count": 9
        }
      ]
    },
    {
      "cell_type": "code",
      "source": [
        "pluralize(\"Zulma\")"
      ],
      "metadata": {
        "colab": {
          "base_uri": "https://localhost:8080/"
        },
        "id": "s-Ke3M7MtI35",
        "outputId": "1c0c601a-fd71-4209-9bd9-71faf32b3b4e"
      },
      "execution_count": null,
      "outputs": [
        {
          "output_type": "execute_result",
          "data": {
            "text/plain": [
              "{'plural': 'Zulmas', 'status': 'success'}"
            ]
          },
          "metadata": {},
          "execution_count": 10
        }
      ]
    },
    {
      "cell_type": "code",
      "source": [
        "pluralize(\"injury\")"
      ],
      "metadata": {
        "colab": {
          "base_uri": "https://localhost:8080/"
        },
        "id": "P7uhEuZ9tI1f",
        "outputId": "01c41115-4bf8-4ddc-94cf-5327f3be3701"
      },
      "execution_count": null,
      "outputs": [
        {
          "output_type": "execute_result",
          "data": {
            "text/plain": [
              "{'plural': 'injuries', 'status': 'success'}"
            ]
          },
          "metadata": {},
          "execution_count": 11
        }
      ]
    },
    {
      "cell_type": "code",
      "source": [
        "pluralize(\"elf\")"
      ],
      "metadata": {
        "colab": {
          "base_uri": "https://localhost:8080/"
        },
        "id": "X3pDNQ1dtIy7",
        "outputId": "57e4df8a-5837-474c-d8d4-0e0ff259391d"
      },
      "execution_count": null,
      "outputs": [
        {
          "output_type": "execute_result",
          "data": {
            "text/plain": [
              "{'plural': 'elfves', 'status': 'success'}"
            ]
          },
          "metadata": {},
          "execution_count": 12
        }
      ]
    },
    {
      "cell_type": "code",
      "source": [
        "pluralize(\"buzz\")"
      ],
      "metadata": {
        "colab": {
          "base_uri": "https://localhost:8080/"
        },
        "id": "qC2ei251uuPv",
        "outputId": "b87b8096-d12d-4fca-dc76-16ef7cc99799"
      },
      "execution_count": null,
      "outputs": [
        {
          "output_type": "execute_result",
          "data": {
            "text/plain": [
              "{'plural': 'buzzes', 'status': 'success'}"
            ]
          },
          "metadata": {},
          "execution_count": 13
        }
      ]
    },
    {
      "cell_type": "code",
      "source": [
        "pluralize(\"computers\")"
      ],
      "metadata": {
        "colab": {
          "base_uri": "https://localhost:8080/"
        },
        "id": "KsVzcJezuuNG",
        "outputId": "63983f41-6e87-4dde-c661-4b42ce25ba79"
      },
      "execution_count": null,
      "outputs": [
        {
          "output_type": "execute_result",
          "data": {
            "text/plain": [
              "{'plural': 'computers', 'status': 'empty'}"
            ]
          },
          "metadata": {},
          "execution_count": 14
        }
      ]
    },
    {
      "cell_type": "code",
      "source": [
        "pluralize(\"PCs\")"
      ],
      "metadata": {
        "colab": {
          "base_uri": "https://localhost:8080/"
        },
        "id": "DQylSi15uuKf",
        "outputId": "d35a8d03-348d-4006-878d-58c0c7ae93d1"
      },
      "execution_count": null,
      "outputs": [
        {
          "output_type": "execute_result",
          "data": {
            "text/plain": [
              "{'plural': 'PCs', 'status': 'empty'}"
            ]
          },
          "metadata": {},
          "execution_count": 15
        }
      ]
    },
    {
      "cell_type": "code",
      "source": [
        "pluralize(\"\")"
      ],
      "metadata": {
        "colab": {
          "base_uri": "https://localhost:8080/"
        },
        "id": "5t2negR-uuH6",
        "outputId": "f80cf653-7832-4331-917f-b6b8cbfdd059"
      },
      "execution_count": null,
      "outputs": [
        {
          "output_type": "execute_result",
          "data": {
            "text/plain": [
              "{'plural': ' ', 'status': 'empty_string'}"
            ]
          },
          "metadata": {},
          "execution_count": 16
        }
      ]
    },
    {
      "cell_type": "code",
      "source": [
        "pluralize(\"highway\")"
      ],
      "metadata": {
        "colab": {
          "base_uri": "https://localhost:8080/"
        },
        "id": "DLMuzqz-uuFZ",
        "outputId": "40c0bc23-37fc-4fcd-dec5-ccb2a254d200"
      },
      "execution_count": null,
      "outputs": [
        {
          "output_type": "execute_result",
          "data": {
            "text/plain": [
              "{'plural': 'highwaies', 'status': 'success'}"
            ]
          },
          "metadata": {},
          "execution_count": 17
        }
      ]
    },
    {
      "cell_type": "code",
      "source": [
        "pluralize(\"presentation\")"
      ],
      "metadata": {
        "colab": {
          "base_uri": "https://localhost:8080/"
        },
        "id": "GUaq0811uuCo",
        "outputId": "1ce331c3-2157-4a67-d863-840ee81a5cb2"
      },
      "execution_count": null,
      "outputs": [
        {
          "output_type": "execute_result",
          "data": {
            "text/plain": [
              "{'plural': 'presentations', 'status': 'success'}"
            ]
          },
          "metadata": {},
          "execution_count": 18
        }
      ]
    },
    {
      "cell_type": "code",
      "source": [
        "pluralize(\"pouch\")"
      ],
      "metadata": {
        "colab": {
          "base_uri": "https://localhost:8080/"
        },
        "id": "Dg0ER-z1uuAL",
        "outputId": "40289cb6-e7e6-48eb-a36c-c6e57e0bc99d"
      },
      "execution_count": null,
      "outputs": [
        {
          "output_type": "execute_result",
          "data": {
            "text/plain": [
              "{'plural': 'pouchs', 'status': 'success'}"
            ]
          },
          "metadata": {},
          "execution_count": 19
        }
      ]
    },
    {
      "cell_type": "code",
      "source": [
        "pluralize(\"COVID-19\")"
      ],
      "metadata": {
        "colab": {
          "base_uri": "https://localhost:8080/"
        },
        "id": "bZbtYTm4ut9k",
        "outputId": "b280dd5c-11cc-4124-bd85-209253c5e0a1"
      },
      "execution_count": null,
      "outputs": [
        {
          "output_type": "execute_result",
          "data": {
            "text/plain": [
              "{'plural': 'COVID-19s', 'status': 'success'}"
            ]
          },
          "metadata": {},
          "execution_count": 20
        }
      ]
    },
    {
      "cell_type": "code",
      "source": [
        "pluralize(\"adam\")"
      ],
      "metadata": {
        "colab": {
          "base_uri": "https://localhost:8080/"
        },
        "id": "BWihdSX2vLrg",
        "outputId": "78cc863e-0791-4fbd-802d-b606326a6b01"
      },
      "execution_count": null,
      "outputs": [
        {
          "output_type": "execute_result",
          "data": {
            "text/plain": [
              "{'plural': 'adams', 'status': 'success'}"
            ]
          },
          "metadata": {},
          "execution_count": 21
        }
      ]
    },
    {
      "cell_type": "code",
      "source": [],
      "metadata": {
        "id": "JfyO9r45os9P"
      },
      "execution_count": null,
      "outputs": []
    },
    {
      "cell_type": "code",
      "source": [
        "text"
      ],
      "metadata": {
        "colab": {
          "base_uri": "https://localhost:8080/"
        },
        "id": "aTVGD1BniM7F",
        "outputId": "5edc2eb5-7c1a-4be1-9bcf-ad82c8bff4b5"
      },
      "execution_count": null,
      "outputs": [
        {
          "output_type": "execute_result",
          "data": {
            "text/plain": [
              "['aaron\\n',\n",
              " 'abdul\\n',\n",
              " 'abe\\n',\n",
              " 'abel\\n',\n",
              " 'abraham\\n',\n",
              " 'abram\\n',\n",
              " 'adalberto\\n',\n",
              " 'adam\\n',\n",
              " 'adan\\n',\n",
              " 'adolfo\\n',\n",
              " 'adolph\\n',\n",
              " 'adrian\\n',\n",
              " 'agustin\\n',\n",
              " 'ahmad\\n',\n",
              " 'ahmed\\n',\n",
              " 'al\\n',\n",
              " 'alan\\n',\n",
              " 'albert\\n',\n",
              " 'alberto\\n',\n",
              " 'alden\\n',\n",
              " 'aldo\\n',\n",
              " 'alec\\n',\n",
              " 'alejandro\\n',\n",
              " 'alex\\n',\n",
              " 'alexander\\n',\n",
              " 'alexis\\n',\n",
              " 'alfonso\\n',\n",
              " 'alfonzo\\n',\n",
              " 'alfred\\n',\n",
              " 'alfredo\\n',\n",
              " 'ali\\n',\n",
              " 'allan\\n',\n",
              " 'allen\\n',\n",
              " 'alonso\\n',\n",
              " 'alonzo\\n',\n",
              " 'alphonse\\n',\n",
              " 'alphonso\\n',\n",
              " 'alton\\n',\n",
              " 'alva\\n',\n",
              " 'alvaro\\n',\n",
              " 'alvin\\n',\n",
              " 'amado\\n',\n",
              " 'ambrose\\n',\n",
              " 'amos\\n',\n",
              " 'anderson\\n',\n",
              " 'andre\\n',\n",
              " 'andrea\\n',\n",
              " 'andreas\\n',\n",
              " 'andres\\n',\n",
              " 'andrew\\n',\n",
              " 'andy\\n',\n",
              " 'angel\\n',\n",
              " 'angelo\\n',\n",
              " 'anibal\\n',\n",
              " 'anthony\\n',\n",
              " 'antione\\n',\n",
              " 'antoine\\n',\n",
              " 'anton\\n',\n",
              " 'antone\\n',\n",
              " 'antonia\\n',\n",
              " 'antonio\\n',\n",
              " 'antony\\n',\n",
              " 'antwan\\n',\n",
              " 'archie\\n',\n",
              " 'arden\\n',\n",
              " 'ariel\\n',\n",
              " 'arlen\\n',\n",
              " 'arlie\\n',\n",
              " 'armand\\n',\n",
              " 'armando\\n',\n",
              " 'arnold\\n',\n",
              " 'arnoldo\\n',\n",
              " 'arnulfo\\n',\n",
              " 'aron\\n',\n",
              " 'arron\\n',\n",
              " 'art\\n',\n",
              " 'arthur\\n',\n",
              " 'arturo\\n',\n",
              " 'asa\\n',\n",
              " 'ashley\\n',\n",
              " 'aubrey\\n',\n",
              " 'august\\n',\n",
              " 'augustine\\n',\n",
              " 'augustus\\n',\n",
              " 'aurelio\\n',\n",
              " 'austin\\n',\n",
              " 'avery\\n',\n",
              " 'barney\\n',\n",
              " 'barrett\\n',\n",
              " 'barry\\n',\n",
              " 'bart\\n',\n",
              " 'barton\\n',\n",
              " 'basil\\n',\n",
              " 'beau\\n',\n",
              " 'ben\\n',\n",
              " 'benedict\\n',\n",
              " 'benito\\n',\n",
              " 'benjamin\\n',\n",
              " 'bennett\\n',\n",
              " 'bennie\\n',\n",
              " 'benny\\n',\n",
              " 'benton\\n',\n",
              " 'bernard\\n',\n",
              " 'bernardo\\n',\n",
              " 'bernie\\n',\n",
              " 'berry\\n',\n",
              " 'bert\\n',\n",
              " 'bertram\\n',\n",
              " 'bill\\n',\n",
              " 'billie\\n',\n",
              " 'billy\\n',\n",
              " 'blaine\\n',\n",
              " 'blair\\n',\n",
              " 'blake\\n',\n",
              " 'bo\\n',\n",
              " 'bob\\n',\n",
              " 'bobbie\\n',\n",
              " 'bobby\\n',\n",
              " 'booker\\n',\n",
              " 'boris\\n',\n",
              " 'boyce\\n',\n",
              " 'boyd\\n',\n",
              " 'brad\\n',\n",
              " 'bradford\\n',\n",
              " 'bradley\\n',\n",
              " 'bradly\\n',\n",
              " 'brady\\n',\n",
              " 'brain\\n',\n",
              " 'branden\\n',\n",
              " 'brandon\\n',\n",
              " 'brant\\n',\n",
              " 'brendan\\n',\n",
              " 'brendon\\n',\n",
              " 'brent\\n',\n",
              " 'brenton\\n',\n",
              " 'bret\\n',\n",
              " 'brett\\n',\n",
              " 'brian\\n',\n",
              " 'brice\\n',\n",
              " 'britt\\n',\n",
              " 'brock\\n',\n",
              " 'broderick\\n',\n",
              " 'brooks\\n',\n",
              " 'bruce\\n',\n",
              " 'bruno\\n',\n",
              " 'bryan\\n',\n",
              " 'bryant\\n',\n",
              " 'bryce\\n',\n",
              " 'bryon\\n',\n",
              " 'buck\\n',\n",
              " 'bud\\n',\n",
              " 'buddy\\n',\n",
              " 'buford\\n',\n",
              " 'burl\\n',\n",
              " 'burt\\n',\n",
              " 'burton\\n',\n",
              " 'buster\\n',\n",
              " 'byron\\n',\n",
              " 'caleb\\n',\n",
              " 'calvin\\n',\n",
              " 'cameron\\n',\n",
              " 'carey\\n',\n",
              " 'carl\\n',\n",
              " 'carlo\\n',\n",
              " 'carlos\\n',\n",
              " 'carlton\\n',\n",
              " 'carmelo\\n',\n",
              " 'carmen\\n',\n",
              " 'carmine\\n',\n",
              " 'carol\\n',\n",
              " 'carrol\\n',\n",
              " 'carroll\\n',\n",
              " 'carson\\n',\n",
              " 'carter\\n',\n",
              " 'cary\\n',\n",
              " 'casey\\n',\n",
              " 'cecil\\n',\n",
              " 'cedric\\n',\n",
              " 'cedrick\\n',\n",
              " 'cesar\\n',\n",
              " 'chad\\n',\n",
              " 'chadwick\\n',\n",
              " 'chance\\n',\n",
              " 'chang\\n',\n",
              " 'charles\\n',\n",
              " 'charley\\n',\n",
              " 'charlie\\n',\n",
              " 'chas\\n',\n",
              " 'chase\\n',\n",
              " 'chauncey\\n',\n",
              " 'chester\\n',\n",
              " 'chet\\n',\n",
              " 'chi\\n',\n",
              " 'chong\\n',\n",
              " 'chris\\n',\n",
              " 'christian\\n',\n",
              " 'christoper\\n',\n",
              " 'christopher\\n',\n",
              " 'chuck\\n',\n",
              " 'chung\\n',\n",
              " 'clair\\n',\n",
              " 'clarence\\n',\n",
              " 'clark\\n',\n",
              " 'claud\\n',\n",
              " 'claude\\n',\n",
              " 'claudio\\n',\n",
              " 'clay\\n',\n",
              " 'clayton\\n',\n",
              " 'clement\\n',\n",
              " 'clemente\\n',\n",
              " 'cleo\\n',\n",
              " 'cletus\\n',\n",
              " 'cleveland\\n',\n",
              " 'cliff\\n',\n",
              " 'clifford\\n',\n",
              " 'clifton\\n',\n",
              " 'clint\\n',\n",
              " 'clinton\\n',\n",
              " 'clyde\\n',\n",
              " 'cody\\n',\n",
              " 'colby\\n',\n",
              " 'cole\\n',\n",
              " 'coleman\\n',\n",
              " 'colin\\n',\n",
              " 'collin\\n',\n",
              " 'colton\\n',\n",
              " 'columbus\\n',\n",
              " 'connie\\n',\n",
              " 'conrad\\n',\n",
              " 'cordell\\n',\n",
              " 'corey\\n',\n",
              " 'cornelius\\n',\n",
              " 'cornell\\n',\n",
              " 'cortez\\n',\n",
              " 'cory\\n',\n",
              " 'courtney\\n',\n",
              " 'coy\\n',\n",
              " 'craig\\n',\n",
              " 'cristobal\\n',\n",
              " 'cristopher\\n',\n",
              " 'cruz\\n',\n",
              " 'curt\\n',\n",
              " 'curtis\\n',\n",
              " 'cyril\\n',\n",
              " 'cyrus\\n',\n",
              " 'dale\\n',\n",
              " 'dallas\\n',\n",
              " 'dalton\\n',\n",
              " 'damian\\n',\n",
              " 'damien\\n',\n",
              " 'damion\\n',\n",
              " 'damon\\n',\n",
              " 'dan\\n',\n",
              " 'dana\\n',\n",
              " 'dane\\n',\n",
              " 'danial\\n',\n",
              " 'daniel\\n',\n",
              " 'danilo\\n',\n",
              " 'dannie\\n',\n",
              " 'danny\\n',\n",
              " 'dante\\n',\n",
              " 'darell\\n',\n",
              " 'daren\\n',\n",
              " 'darin\\n',\n",
              " 'dario\\n',\n",
              " 'darius\\n',\n",
              " 'darnell\\n',\n",
              " 'daron\\n',\n",
              " 'darrel\\n',\n",
              " 'darrell\\n',\n",
              " 'darren\\n',\n",
              " 'darrick\\n',\n",
              " 'darrin\\n',\n",
              " 'darron\\n',\n",
              " 'darryl\\n',\n",
              " 'darwin\\n',\n",
              " 'daryl\\n',\n",
              " 'dave\\n',\n",
              " 'david\\n',\n",
              " 'davis\\n',\n",
              " 'dean\\n',\n",
              " 'deandre\\n',\n",
              " 'deangelo\\n',\n",
              " 'dee\\n',\n",
              " 'del\\n',\n",
              " 'delbert\\n',\n",
              " 'delmar\\n',\n",
              " 'delmer\\n',\n",
              " 'demarcus\\n',\n",
              " 'demetrius\\n',\n",
              " 'denis\\n',\n",
              " 'dennis\\n',\n",
              " 'denny\\n',\n",
              " 'denver\\n',\n",
              " 'deon\\n',\n",
              " 'derek\\n',\n",
              " 'derick\\n',\n",
              " 'derrick\\n',\n",
              " 'deshawn\\n',\n",
              " 'desmond\\n',\n",
              " 'devin\\n',\n",
              " 'devon\\n',\n",
              " 'dewayne\\n',\n",
              " 'dewey\\n',\n",
              " 'dewitt\\n',\n",
              " 'dexter\\n',\n",
              " 'dick\\n',\n",
              " 'diego\\n',\n",
              " 'dillon\\n',\n",
              " 'dino\\n',\n",
              " 'dion\\n',\n",
              " 'dirk\\n',\n",
              " 'domenic\\n',\n",
              " 'domingo\\n',\n",
              " 'dominic\\n',\n",
              " 'dominick\\n',\n",
              " 'dominique\\n',\n",
              " 'don\\n',\n",
              " 'donald\\n',\n",
              " 'dong\\n',\n",
              " 'donn\\n',\n",
              " 'donnell\\n',\n",
              " 'donnie\\n',\n",
              " 'donny\\n',\n",
              " 'donovan\\n',\n",
              " 'donte\\n',\n",
              " 'dorian\\n',\n",
              " 'dorsey\\n',\n",
              " 'doug\\n',\n",
              " 'douglas\\n',\n",
              " 'douglass\\n',\n",
              " 'doyle\\n',\n",
              " 'drew\\n',\n",
              " 'duane\\n',\n",
              " 'dudley\\n',\n",
              " 'duncan\\n',\n",
              " 'dustin\\n',\n",
              " 'dusty\\n',\n",
              " 'dwain\\n',\n",
              " 'dwayne\\n',\n",
              " 'dwight\\n',\n",
              " 'dylan\\n',\n",
              " 'earl\\n',\n",
              " 'earle\\n',\n",
              " 'earnest\\n',\n",
              " 'ed\\n',\n",
              " 'eddie\\n',\n",
              " 'eddy\\n',\n",
              " 'edgar\\n',\n",
              " 'edgardo\\n',\n",
              " 'edison\\n',\n",
              " 'edmond\\n',\n",
              " 'edmund\\n',\n",
              " 'edmundo\\n',\n",
              " 'eduardo\\n',\n",
              " 'edward\\n',\n",
              " 'edwardo\\n',\n",
              " 'edwin\\n',\n",
              " 'efrain\\n',\n",
              " 'efren\\n',\n",
              " 'elbert\\n',\n",
              " 'elden\\n',\n",
              " 'eldon\\n',\n",
              " 'eldridge\\n',\n",
              " 'eli\\n',\n",
              " 'elias\\n',\n",
              " 'elijah\\n',\n",
              " 'eliseo\\n',\n",
              " 'elisha\\n',\n",
              " 'elliot\\n',\n",
              " 'elliott\\n',\n",
              " 'ellis\\n',\n",
              " 'ellsworth\\n',\n",
              " 'elmer\\n',\n",
              " 'elmo\\n',\n",
              " 'eloy\\n',\n",
              " 'elroy\\n',\n",
              " 'elton\\n',\n",
              " 'elvin\\n',\n",
              " 'elvis\\n',\n",
              " 'elwood\\n',\n",
              " 'emanuel\\n',\n",
              " 'emerson\\n',\n",
              " 'emery\\n',\n",
              " 'emil\\n',\n",
              " 'emile\\n',\n",
              " 'emilio\\n',\n",
              " 'emmanuel\\n',\n",
              " 'emmett\\n',\n",
              " 'emmitt\\n',\n",
              " 'emory\\n',\n",
              " 'enoch\\n',\n",
              " 'enrique\\n',\n",
              " 'erasmo\\n',\n",
              " 'eric\\n',\n",
              " 'erich\\n',\n",
              " 'erick\\n',\n",
              " 'erik\\n',\n",
              " 'erin\\n',\n",
              " 'ernest\\n',\n",
              " 'ernesto\\n',\n",
              " 'ernie\\n',\n",
              " 'errol\\n',\n",
              " 'ervin\\n',\n",
              " 'erwin\\n',\n",
              " 'esteban\\n',\n",
              " 'ethan\\n',\n",
              " 'eugene\\n',\n",
              " 'eugenio\\n',\n",
              " 'eusebio\\n',\n",
              " 'evan\\n',\n",
              " 'everett\\n',\n",
              " 'everette\\n',\n",
              " 'ezekiel\\n',\n",
              " 'ezequiel\\n',\n",
              " 'ezra\\n',\n",
              " 'fabian\\n',\n",
              " 'faustino\\n',\n",
              " 'fausto\\n',\n",
              " 'federico\\n',\n",
              " 'felipe\\n',\n",
              " 'felix\\n',\n",
              " 'felton\\n',\n",
              " 'ferdinand\\n',\n",
              " 'fermin\\n',\n",
              " 'fernando\\n',\n",
              " 'fidel\\n',\n",
              " 'filiberto\\n',\n",
              " 'fletcher\\n',\n",
              " 'florencio\\n',\n",
              " 'florentino\\n',\n",
              " 'floyd\\n',\n",
              " 'forest\\n',\n",
              " 'forrest\\n',\n",
              " 'foster\\n',\n",
              " 'frances\\n',\n",
              " 'francesco\\n',\n",
              " 'francis\\n',\n",
              " 'francisco\\n',\n",
              " 'frank\\n',\n",
              " 'frankie\\n',\n",
              " 'franklin\\n',\n",
              " 'franklyn\\n',\n",
              " 'fred\\n',\n",
              " 'freddie\\n',\n",
              " 'freddy\\n',\n",
              " 'frederic\\n',\n",
              " 'frederick\\n',\n",
              " 'fredric\\n',\n",
              " 'fredrick\\n',\n",
              " 'freeman\\n',\n",
              " 'fritz\\n',\n",
              " 'gabriel\\n',\n",
              " 'gail\\n',\n",
              " 'gale\\n',\n",
              " 'galen\\n',\n",
              " 'garfield\\n',\n",
              " 'garland\\n',\n",
              " 'garret\\n',\n",
              " 'garrett\\n',\n",
              " 'garry\\n',\n",
              " 'garth\\n',\n",
              " 'gary\\n',\n",
              " 'gaston\\n',\n",
              " 'gavin\\n',\n",
              " 'gayle\\n',\n",
              " 'gaylord\\n',\n",
              " 'genaro\\n',\n",
              " 'gene\\n',\n",
              " 'geoffrey\\n',\n",
              " 'george\\n',\n",
              " 'gerald\\n',\n",
              " 'geraldo\\n',\n",
              " 'gerard\\n',\n",
              " 'gerardo\\n',\n",
              " 'german\\n',\n",
              " 'gerry\\n',\n",
              " 'gil\\n',\n",
              " 'gilbert\\n',\n",
              " 'gilberto\\n',\n",
              " 'gino\\n',\n",
              " 'giovanni\\n',\n",
              " 'giuseppe\\n',\n",
              " 'glen\\n',\n",
              " 'glenn\\n',\n",
              " 'gonzalo\\n',\n",
              " 'gordon\\n',\n",
              " 'grady\\n',\n",
              " 'graham\\n',\n",
              " 'graig\\n',\n",
              " 'grant\\n',\n",
              " 'granville\\n',\n",
              " 'greg\\n',\n",
              " 'gregg\\n',\n",
              " 'gregorio\\n',\n",
              " 'gregory\\n',\n",
              " 'grover\\n',\n",
              " 'guadalupe\\n',\n",
              " 'guillermo\\n',\n",
              " 'gus\\n',\n",
              " 'gustavo\\n',\n",
              " 'guy\\n',\n",
              " 'hai\\n',\n",
              " 'hal\\n',\n",
              " 'hank\\n',\n",
              " 'hans\\n',\n",
              " 'harlan\\n',\n",
              " 'harland\\n',\n",
              " 'harley\\n',\n",
              " 'harold\\n',\n",
              " 'harris\\n',\n",
              " 'harrison\\n',\n",
              " 'harry\\n',\n",
              " 'harvey\\n',\n",
              " 'hassan\\n',\n",
              " 'hayden\\n',\n",
              " 'haywood\\n',\n",
              " 'heath\\n',\n",
              " 'hector\\n',\n",
              " 'henry\\n',\n",
              " 'herb\\n',\n",
              " 'herbert\\n',\n",
              " 'heriberto\\n',\n",
              " 'herman\\n',\n",
              " 'herschel\\n',\n",
              " 'hershel\\n',\n",
              " 'hilario\\n',\n",
              " 'hilton\\n',\n",
              " 'hipolito\\n',\n",
              " 'hiram\\n',\n",
              " 'hobert\\n',\n",
              " 'hollis\\n',\n",
              " 'homer\\n',\n",
              " 'hong\\n',\n",
              " 'horace\\n',\n",
              " 'horacio\\n',\n",
              " 'hosea\\n',\n",
              " 'houston\\n',\n",
              " 'howard\\n',\n",
              " 'hoyt\\n',\n",
              " 'hubert\\n',\n",
              " 'huey\\n',\n",
              " 'hugh\\n',\n",
              " 'hugo\\n',\n",
              " 'humberto\\n',\n",
              " 'hung\\n',\n",
              " 'hunter\\n',\n",
              " 'hyman\\n',\n",
              " 'ian\\n',\n",
              " 'ignacio\\n',\n",
              " 'ike\\n',\n",
              " 'ira\\n',\n",
              " 'irvin\\n',\n",
              " 'irving\\n',\n",
              " 'irwin\\n',\n",
              " 'isaac\\n',\n",
              " 'isaiah\\n',\n",
              " 'isaias\\n',\n",
              " 'isiah\\n',\n",
              " 'isidro\\n',\n",
              " 'ismael\\n',\n",
              " 'israel\\n',\n",
              " 'isreal\\n',\n",
              " 'issac\\n',\n",
              " 'ivan\\n',\n",
              " 'ivory\\n',\n",
              " 'jacinto\\n',\n",
              " 'jack\\n',\n",
              " 'jackie\\n',\n",
              " 'jackson\\n',\n",
              " 'jacob\\n',\n",
              " 'jacques\\n',\n",
              " 'jae\\n',\n",
              " 'jaime\\n',\n",
              " 'jake\\n',\n",
              " 'jamaal\\n',\n",
              " 'jamal\\n',\n",
              " 'jamar\\n',\n",
              " 'jame\\n',\n",
              " 'jamel\\n',\n",
              " 'james\\n',\n",
              " 'jamey\\n',\n",
              " 'jamie\\n',\n",
              " 'jamison\\n',\n",
              " 'jan\\n',\n",
              " 'jared\\n',\n",
              " 'jarod\\n',\n",
              " 'jarred\\n',\n",
              " 'jarrett\\n',\n",
              " 'jarrod\\n',\n",
              " 'jarvis\\n',\n",
              " 'jason\\n',\n",
              " 'jasper\\n',\n",
              " 'javier\\n',\n",
              " 'jay\\n',\n",
              " 'jayson\\n',\n",
              " 'jc\\n',\n",
              " 'jean\\n',\n",
              " 'jed\\n',\n",
              " 'jeff\\n',\n",
              " 'jefferey\\n',\n",
              " 'jefferson\\n',\n",
              " 'jeffery\\n',\n",
              " 'jeffrey\\n',\n",
              " 'jeffry\\n',\n",
              " 'jerald\\n',\n",
              " 'jeramy\\n',\n",
              " 'jere\\n',\n",
              " 'jeremiah\\n',\n",
              " 'jeremy\\n',\n",
              " 'jermaine\\n',\n",
              " 'jerold\\n',\n",
              " 'jerome\\n',\n",
              " 'jeromy\\n',\n",
              " 'jerrell\\n',\n",
              " 'jerrod\\n',\n",
              " 'jerrold\\n',\n",
              " 'jerry\\n',\n",
              " 'jess\\n',\n",
              " 'jesse\\n',\n",
              " 'jessie\\n',\n",
              " 'jesus\\n',\n",
              " 'jewel\\n',\n",
              " 'jewell\\n',\n",
              " 'jim\\n',\n",
              " 'jimmie\\n',\n",
              " 'jimmy\\n',\n",
              " 'joan\\n',\n",
              " 'joaquin\\n',\n",
              " 'jody\\n',\n",
              " 'joe\\n',\n",
              " 'joel\\n',\n",
              " 'joesph\\n',\n",
              " 'joey\\n',\n",
              " 'john\\n',\n",
              " 'johnathan\\n',\n",
              " 'johnathon\\n',\n",
              " 'johnie\\n',\n",
              " 'johnnie\\n',\n",
              " 'johnny\\n',\n",
              " 'johnson\\n',\n",
              " 'jon\\n',\n",
              " 'jonah\\n',\n",
              " 'jonas\\n',\n",
              " 'jonathan\\n',\n",
              " 'jonathon\\n',\n",
              " 'jordan\\n',\n",
              " 'jordon\\n',\n",
              " 'jorge\\n',\n",
              " 'jose\\n',\n",
              " 'josef\\n',\n",
              " 'joseph\\n',\n",
              " 'josh\\n',\n",
              " 'joshua\\n',\n",
              " 'josiah\\n',\n",
              " 'jospeh\\n',\n",
              " 'josue\\n',\n",
              " 'juan\\n',\n",
              " 'jude\\n',\n",
              " 'judson\\n',\n",
              " 'jules\\n',\n",
              " 'julian\\n',\n",
              " 'julio\\n',\n",
              " 'julius\\n',\n",
              " 'junior\\n',\n",
              " 'justin\\n',\n",
              " 'kareem\\n',\n",
              " 'karl\\n',\n",
              " 'kasey\\n',\n",
              " 'keenan\\n',\n",
              " 'keith\\n',\n",
              " 'kelley\\n',\n",
              " 'kelly\\n',\n",
              " 'kelvin\\n',\n",
              " 'ken\\n',\n",
              " 'kendall\\n',\n",
              " 'kendrick\\n',\n",
              " 'keneth\\n',\n",
              " 'kenneth\\n',\n",
              " 'kennith\\n',\n",
              " 'kenny\\n',\n",
              " 'kent\\n',\n",
              " 'kenton\\n',\n",
              " 'kermit\\n',\n",
              " 'kerry\\n',\n",
              " 'keven\\n',\n",
              " 'kevin\\n',\n",
              " 'kieth\\n',\n",
              " 'kim\\n',\n",
              " 'king\\n',\n",
              " 'kip\\n',\n",
              " 'kirby\\n',\n",
              " 'kirk\\n',\n",
              " 'korey\\n',\n",
              " 'kory\\n',\n",
              " 'kraig\\n',\n",
              " 'kris\\n',\n",
              " 'kristofer\\n',\n",
              " 'kristopher\\n',\n",
              " 'kurt\\n',\n",
              " 'kurtis\\n',\n",
              " 'kyle\\n',\n",
              " 'lacy\\n',\n",
              " 'lamar\\n',\n",
              " 'lamont\\n',\n",
              " 'lance\\n',\n",
              " 'landon\\n',\n",
              " 'lane\\n',\n",
              " 'lanny\\n',\n",
              " 'larry\\n',\n",
              " 'lauren\\n',\n",
              " 'laurence\\n',\n",
              " 'lavern\\n',\n",
              " 'laverne\\n',\n",
              " 'lawerence\\n',\n",
              " 'lawrence\\n',\n",
              " 'lazaro\\n',\n",
              " 'leandro\\n',\n",
              " 'lee\\n',\n",
              " 'leif\\n',\n",
              " 'leigh\\n',\n",
              " 'leland\\n',\n",
              " 'lemuel\\n',\n",
              " 'len\\n',\n",
              " 'lenard\\n',\n",
              " 'lenny\\n',\n",
              " 'leo\\n',\n",
              " 'leon\\n',\n",
              " 'leonard\\n',\n",
              " 'leonardo\\n',\n",
              " 'leonel\\n',\n",
              " 'leopoldo\\n',\n",
              " 'leroy\\n',\n",
              " 'les\\n',\n",
              " 'lesley\\n',\n",
              " 'leslie\\n',\n",
              " 'lester\\n',\n",
              " 'levi\\n',\n",
              " 'lewis\\n',\n",
              " 'lincoln\\n',\n",
              " 'lindsay\\n',\n",
              " 'lindsey\\n',\n",
              " 'lino\\n',\n",
              " 'linwood\\n',\n",
              " 'lionel\\n',\n",
              " 'lloyd\\n',\n",
              " 'logan\\n',\n",
              " 'lon\\n',\n",
              " 'long\\n',\n",
              " 'lonnie\\n',\n",
              " 'lonny\\n',\n",
              " 'loren\\n',\n",
              " 'lorenzo\\n',\n",
              " 'lou\\n',\n",
              " 'louie\\n',\n",
              " 'louis\\n',\n",
              " 'lowell\\n',\n",
              " 'loyd\\n',\n",
              " 'lucas\\n',\n",
              " 'luciano\\n',\n",
              " 'lucien\\n',\n",
              " 'lucio\\n',\n",
              " 'lucius\\n',\n",
              " 'luigi\\n',\n",
              " 'luis\\n',\n",
              " 'luke\\n',\n",
              " 'lupe\\n',\n",
              " 'luther\\n',\n",
              " 'lyle\\n',\n",
              " 'lyman\\n',\n",
              " 'lyndon\\n',\n",
              " 'lynn\\n',\n",
              " 'lynwood\\n',\n",
              " 'mac\\n',\n",
              " 'mack\\n',\n",
              " 'major\\n',\n",
              " 'malcolm\\n',\n",
              " 'malcom\\n',\n",
              " 'malik\\n',\n",
              " 'man\\n',\n",
              " 'manual\\n',\n",
              " 'manuel\\n',\n",
              " 'marc\\n',\n",
              " 'marcel\\n',\n",
              " 'marcelino\\n',\n",
              " 'marcellus\\n',\n",
              " 'marcelo\\n',\n",
              " 'marco\\n',\n",
              " 'marcos\\n',\n",
              " 'marcus\\n',\n",
              " 'margarito\\n',\n",
              " 'maria\\n',\n",
              " 'mariano\\n',\n",
              " 'mario\\n',\n",
              " 'marion\\n',\n",
              " 'mark\\n',\n",
              " 'markus\\n',\n",
              " 'marlin\\n',\n",
              " 'marlon\\n',\n",
              " 'marquis\\n',\n",
              " 'marshall\\n',\n",
              " 'martin\\n',\n",
              " 'marty\\n',\n",
              " 'marvin\\n',\n",
              " 'mary\\n',\n",
              " 'mason\\n',\n",
              " 'mathew\\n',\n",
              " 'matt\\n',\n",
              " 'matthew\\n',\n",
              " 'maurice\\n',\n",
              " 'mauricio\\n',\n",
              " 'mauro\\n',\n",
              " 'max\\n',\n",
              " 'maximo\\n',\n",
              " 'maxwell\\n',\n",
              " 'maynard\\n',\n",
              " 'mckinley\\n',\n",
              " 'mel\\n',\n",
              " 'melvin\\n',\n",
              " 'merle\\n',\n",
              " 'merlin\\n',\n",
              " 'merrill\\n',\n",
              " 'mervin\\n',\n",
              " 'micah\\n',\n",
              " 'michael\\n',\n",
              " 'michal\\n',\n",
              " 'michale\\n',\n",
              " 'micheal\\n',\n",
              " 'michel\\n',\n",
              " 'mickey\\n',\n",
              " 'miguel\\n',\n",
              " 'mike\\n',\n",
              " 'mikel\\n',\n",
              " 'milan\\n',\n",
              " 'miles\\n',\n",
              " 'milford\\n',\n",
              " 'millard\\n',\n",
              " 'milo\\n',\n",
              " 'milton\\n',\n",
              " 'minh\\n',\n",
              " 'miquel\\n',\n",
              " 'mitch\\n',\n",
              " 'mitchel\\n',\n",
              " 'mitchell\\n',\n",
              " 'modesto\\n',\n",
              " 'mohamed\\n',\n",
              " 'mohammad\\n',\n",
              " 'mohammed\\n',\n",
              " 'moises\\n',\n",
              " 'monroe\\n',\n",
              " 'monte\\n',\n",
              " 'monty\\n',\n",
              " 'morgan\\n',\n",
              " 'morris\\n',\n",
              " 'morton\\n',\n",
              " 'mose\\n',\n",
              " 'moses\\n',\n",
              " 'moshe\\n',\n",
              " 'murray\\n',\n",
              " 'myles\\n',\n",
              " 'myron\\n',\n",
              " 'napoleon\\n',\n",
              " 'nathan\\n',\n",
              " 'nathanael\\n',\n",
              " 'nathanial\\n',\n",
              " 'nathaniel\\n',\n",
              " 'neal\\n',\n",
              " 'ned\\n',\n",
              " 'neil\\n',\n",
              " 'nelson\\n',\n",
              " 'nestor\\n',\n",
              " 'neville\\n',\n",
              " 'newton\\n',\n",
              " 'nicholas\\n',\n",
              " 'nick\\n',\n",
              " 'nickolas\\n',\n",
              " 'nicky\\n',\n",
              " 'nicolas\\n',\n",
              " 'nigel\\n',\n",
              " 'noah\\n',\n",
              " 'noble\\n',\n",
              " 'noe\\n',\n",
              " 'noel\\n',\n",
              " 'nolan\\n',\n",
              " 'norbert\\n',\n",
              " 'norberto\\n',\n",
              " 'norman\\n',\n",
              " 'normand\\n',\n",
              " 'norris\\n',\n",
              " 'numbers\\n',\n",
              " 'octavio\\n',\n",
              " 'odell\\n',\n",
              " 'odis\\n',\n",
              " 'olen\\n',\n",
              " 'olin\\n',\n",
              " 'oliver\\n',\n",
              " 'ollie\\n',\n",
              " 'omar\\n',\n",
              " 'omer\\n',\n",
              " 'oren\\n',\n",
              " 'orlando\\n',\n",
              " 'orval\\n',\n",
              " 'orville\\n',\n",
              " 'oscar\\n',\n",
              " 'osvaldo\\n',\n",
              " 'oswaldo\\n',\n",
              " 'otha\\n',\n",
              " 'otis\\n',\n",
              " 'otto\\n',\n",
              " 'owen\\n',\n",
              " 'pablo\\n',\n",
              " 'palmer\\n',\n",
              " 'paris\\n',\n",
              " 'parker\\n',\n",
              " 'pasquale\\n',\n",
              " 'pat\\n',\n",
              " 'patricia\\n',\n",
              " 'patrick\\n',\n",
              " 'paul\\n',\n",
              " 'pedro\\n',\n",
              " 'percy\\n',\n",
              " 'perry\\n',\n",
              " 'pete\\n',\n",
              " 'peter\\n',\n",
              " 'phil\\n',\n",
              " 'philip\\n',\n",
              " 'phillip\\n',\n",
              " 'pierre\\n',\n",
              " 'porfirio\\n',\n",
              " 'porter\\n',\n",
              " 'preston\\n',\n",
              " 'prince\\n',\n",
              " 'quentin\\n',\n",
              " 'quincy\\n',\n",
              " 'quinn\\n',\n",
              " 'quintin\\n',\n",
              " 'quinton\\n',\n",
              " 'rafael\\n',\n",
              " 'raleigh\\n',\n",
              " 'ralph\\n',\n",
              " 'ramiro\\n',\n",
              " 'ramon\\n',\n",
              " 'randal\\n',\n",
              " 'randall\\n',\n",
              " 'randell\\n',\n",
              " 'randolph\\n',\n",
              " 'randy\\n',\n",
              " 'raphael\\n',\n",
              " 'rashad\\n',\n",
              " 'raul\\n',\n",
              " 'ray\\n',\n",
              " 'rayford\\n',\n",
              " 'raymon\\n',\n",
              " 'raymond\\n',\n",
              " 'raymundo\\n',\n",
              " 'reed\\n',\n",
              " 'refugio\\n',\n",
              " 'reggie\\n',\n",
              " 'reginald\\n',\n",
              " 'reid\\n',\n",
              " 'reinaldo\\n',\n",
              " 'renaldo\\n',\n",
              " 'renato\\n',\n",
              " 'rene\\n',\n",
              " 'reuben\\n',\n",
              " 'rex\\n',\n",
              " 'rey\\n',\n",
              " 'reyes\\n',\n",
              " 'reynaldo\\n',\n",
              " 'rhett\\n',\n",
              " 'ricardo\\n',\n",
              " 'rich\\n',\n",
              " 'richard\\n',\n",
              " 'richie\\n',\n",
              " 'rick\\n',\n",
              " 'rickey\\n',\n",
              " 'rickie\\n',\n",
              " 'ricky\\n',\n",
              " 'rico\\n',\n",
              " 'rigoberto\\n',\n",
              " 'riley\\n',\n",
              " 'rob\\n',\n",
              " 'robbie\\n',\n",
              " 'robby\\n',\n",
              " 'robert\\n',\n",
              " 'roberto\\n',\n",
              " 'robin\\n',\n",
              " 'robt\\n',\n",
              " 'rocco\\n',\n",
              " 'rocky\\n',\n",
              " 'rod\\n',\n",
              " 'roderick\\n',\n",
              " 'rodger\\n',\n",
              " 'rodney\\n',\n",
              " 'rodolfo\\n',\n",
              " 'rodrick\\n',\n",
              " 'rodrigo\\n',\n",
              " 'rogelio\\n',\n",
              " 'roger\\n',\n",
              " 'roland\\n',\n",
              " ...]"
            ]
          },
          "metadata": {},
          "execution_count": 117
        }
      ]
    },
    {
      "cell_type": "code",
      "source": [],
      "metadata": {
        "id": "KozBZBL8iM4L"
      },
      "execution_count": null,
      "outputs": []
    },
    {
      "cell_type": "code",
      "source": [],
      "metadata": {
        "id": "ER5Cds7PiM1Z"
      },
      "execution_count": null,
      "outputs": []
    },
    {
      "cell_type": "code",
      "source": [],
      "metadata": {
        "id": "JzgfvKwYiMyp"
      },
      "execution_count": null,
      "outputs": []
    },
    {
      "cell_type": "markdown",
      "source": [
        "### Question 4 - Function renamer\n",
        "\n",
        "\n",
        "You are working on a large-scale software project involving thousands of different Python files. The files have been written by different programmers and the naming of functions is somewhat inconsistent. You receive a new directive stating that the function names all have to be in camel case. In camel case, function names consisting of multiple words have a capital letter in each word and most underscores are removed. For instance, `def MyArithmeticCalculator()` is in camel case but `def my_arithmetic_calculator()` is not in camel case.\n",
        "\n",
        "You want to write a Python program that automatically processes Python code and renames the function names instead of doing it by hand. The instruction states that:\n",
        "\n",
        "  1.) All functions names need to be changed to camel case. E.g. a function\n",
        "  `calculate_speed_of_vehicle()` needs to be renamed to `CalculateSpeedOfVehicle()`.\n",
        "\n",
        "  2.) If the function has one or more leading ’_’ (underscores) they need to be preserved.\n",
        "\n",
        "  All other underscores need to be removed. E.g. a function `__calc_size()` is renamed to `__CalcSize()`.\n",
        "\n",
        "  3.) If the function is already in camel case, you do not need to change it but it still needs to appear in the dictionary d specified below.\n",
        "\n",
        "  4.) You can assume that there will be no name clashes. That is, a given function name which is not in camel case will not already appear in camel case elsewhere. E.g.if there is a function `print_all_strings()` then there is no function `PrintAllStrings()` elsewhere in the code.\n",
        "\n",
        "5.) Tip: You can use regular expressions to find the function names.\n",
        "\n",
        "\n",
        "To implement this, write a function `function_renamer(code)` that takes as input a string code that represents the Python code. It is typically a multi-line Python string. Your function needs to return the tuple `(d, newcode)`:\n",
        "\n",
        "  • `d` is a nested dictionary where each key corresponds to the original function name. The value is a nested dictionary that has the following items:\n",
        "\n",
        "    – hash: hash code of the original function name (tip: use Python’s hash function)\n",
        "\n",
        "    – camelcase: camel case version of original function name\n",
        "\n",
        "    – allcaps: all caps version of original function name\n",
        "\n",
        "  • newcode is a string containing the code wherein all function names have been renamed by their camel case versions. Note that you need to change the function name and also all other locations where the function name is used (e.g. function calls). You should not change anything else in the code (e.g. the contents of any strings). To clarify this, a few examples are given below:\n",
        "    - Example 1: Assume your input code is the multi-line string\n",
        "    \n",
        "        def add_two_numbers(a, b):\n",
        "          return a + b\n",
        "          print(add_two_numbers(10, 20))\n",
        "\n",
        "    \n",
        "    \n",
        "      After processing it with your function, the code should be changed to\n",
        "\n",
        "        def AddTwoNumbers(a, b):\n",
        "          return a + b\n",
        "        print(AddTwoNumbers(10, 20))\n",
        "\n",
        "        The nested dictionary is given by\n",
        "        d = {’add_two_numbers’:\n",
        "        {’hash’:-9214996652071026704,\n",
        "        ’camelcase’:’AddTwoNumbers’,\n",
        "        ’allcaps’:’ADD_TWO_NUMBERS’} }\n",
        "\n",
        "\n",
        "    - Example 2: Assume your input code is the multi-line string\n",
        "          def _major_split(*args):\n",
        "            return (args[:2], args[2:])\n",
        "          \n",
        "          \n",
        "          def CheckTruth(t = True):\n",
        "            print(’t is’, t)\n",
        "            return _major_split([t]*10)\n",
        "          \n",
        "          x, y = _major_split((10, 20, 30, 40, 50))\n",
        "\n",
        "\n",
        "\n",
        "      CheckTruth(len(x) == 10)\n",
        "\n",
        "      After processing it with your function, the code should be changed to\n",
        "          def _MajorSplit(*args):\n",
        "            return (args[:2], args[2:])\n",
        "          \n",
        "          def CheckTruth(t = True):\n",
        "            print(’t is’, t)\n",
        "            return _MajorSplit([t]*10)\n",
        "          x, y = _MajorSplit((10, 20, 30, 40, 50))\n",
        "          \n",
        "          CheckTruth(len(x) == 10)\n",
        "          \n",
        "          The nested dictionary is given by\n",
        "          \n",
        "          d = {’CheckTruth’:\n",
        "          {’hash’:-6410081306665365595,\n",
        "          ’camelcase’:’CheckTruth’,\n",
        "          ’allcaps’:’CHECKTRUTH’,\n",
        "          ’_major_split’:\n",
        "          {’hash’:484498917506710667,\n",
        "          ’camelcase’:’_MajorSplit’,\n",
        "          ’allcaps’:’_MAJOR_SPLIT’}}\n",
        "\n",
        "\n",
        "\n",
        "Test code: The examples given above are the only test cases to be handled for this question."
      ],
      "metadata": {
        "id": "-XQCi9ydHG9t"
      }
    },
    {
      "cell_type": "code",
      "source": [
        "import re\n",
        "\n",
        "\n",
        "def function_renamer(code):\n",
        "  a = re.compile(r\"\\w+_\\w+\")\n",
        "  c = re.compile(r\"(def\\s\\w+)\")\n",
        "  # b = re.compile\n",
        "  b = a.findall(code)\n",
        "\n",
        "\n",
        "  rename = []\n",
        "  d  = {}\n",
        "\n",
        "  for i in b:\n",
        "    if '_' in i:\n",
        "\n",
        "      rename.append(' '.join(i.split('_')).title().replace(' ', ''))\n",
        "\n",
        "\n",
        "    else:\n",
        "      rename.append(i)\n",
        "\n",
        "\n",
        "  d.update({i:{'hash':hash(i), 'camelcase':rename[1], 'uppercase':i.upper()}})\n",
        "\n",
        "\n",
        "  print(d)\n",
        "  # print(rename)\n",
        "\n",
        "\n",
        "\n",
        "\n",
        "\n"
      ],
      "metadata": {
        "id": "FQy1xCBIJu5E"
      },
      "execution_count": 34,
      "outputs": []
    },
    {
      "cell_type": "code",
      "source": [
        "function_renamer('''def add_two_numbers(a, b):\n",
        "    return a + b\n",
        "    print(add_two_numbers(10, 20))''')"
      ],
      "metadata": {
        "colab": {
          "base_uri": "https://localhost:8080/"
        },
        "id": "1Ox_mIjx28q7",
        "outputId": "dc630a12-8771-4456-8b8c-1ebb1c15213f"
      },
      "execution_count": 35,
      "outputs": [
        {
          "output_type": "stream",
          "name": "stdout",
          "text": [
            "{'add_two_numbers': {'hash': 4297911123764550767, 'camelcase': 'AddTwoNumbers', 'uppercase': 'ADD_TWO_NUMBERS'}}\n"
          ]
        }
      ]
    },
    {
      "cell_type": "markdown",
      "source": [
        "## Submit your solution\n",
        "\n",
        "Once you are finish with the test, please make sure that you have renamed your solutions in the format given ahead ex. **python_test(pranav_uikey)** and submit it using this [following link](https://github.com/Ai-Adventures/Python_test_submissions)"
      ],
      "metadata": {
        "id": "TSSWnkRKpDmB"
      }
    },
    {
      "source": [
        "## All The Best!!"
      ],
      "cell_type": "markdown",
      "metadata": {
        "id": "3DGlZHtVnU0A"
      }
    }
  ]
}